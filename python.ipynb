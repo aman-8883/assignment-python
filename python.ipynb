{
  "nbformat": 4,
  "nbformat_minor": 0,
  "metadata": {
    "colab": {
      "provenance": []
    },
    "kernelspec": {
      "name": "python3",
      "display_name": "Python 3"
    },
    "language_info": {
      "name": "python"
    }
  },
  "cells": [
    {
      "cell_type": "markdown",
      "source": [
        "# Python\n"
      ],
      "metadata": {
        "id": "7yCm62GOAQZ5"
      }
    },
    {
      "cell_type": "markdown",
      "source": [
        "1.  Explain the key features of Python that make it a popular choice for programming\n",
        "   - Python's popularity stems from its simplicity, versatility, and extensive community support. Its readability and ease of learning make it accessible to both beginners and experienced programmers, while its versatility allows for a wide range of applications.\n",
        "   \n",
        "2. Describe the role of predefined keywords in Python and provide examples of how they are used in a\n",
        "program0\n",
        "  - Python Keywords are some predefined and reserved words in Python that have special meanings. Keywords are used to define the syntax of the coding. The keyword cannot be used as an identifier, function, or variable name. All the keywords in Python are written in lowercase except True and False.\n",
        "  Rules for Keywords in Python\n",
        "Python keywords cannot be used as identifiers.\n",
        "All the keywords in Python should be in lowercase except True and False.\n",
        "List of Python Keywords\n",
        "Keywords   \n",
        "\n",
        "Description\n",
        "\n",
        "and\t= This is a logical operator which returns true if both the operands are true else returns false.\n",
        "or\t= This is also a logical operator which returns true if anyone operand is true else returns false.\n",
        "not\t= This is again a logical operator it returns True if the operand is false else returns false.\n",
        "if\t= This is used to make a conditional statement.\n",
        "elif\t= Elif is a condition statement used with an if statement. The elif statement is executed if the previous conditions were not true.\n",
        "else\t= Else is used with if and elif conditional statements. The else block is executed if the given condition is not true.\n",
        "for\t= This is used to create a loop.\n",
        "while =\tThis keyword is used to create a while loop.\n",
        "break\t= This is used to terminate the loop.\n",
        "as\t= This is used to create an alternative.\n",
        "def\t=  It helps us to define functions.\n",
        "lambda\t= It is used to define the anonymous function.\n",
        "pass\t= This is a null statement which means it will do nothing.\n",
        "return\t= It will return a value and exit the function.\n",
        "True\t= This is a boolean value.\n",
        "False\t= This is also a boolean value.\n",
        "try\t= It makes a try-except statement.\n",
        "with\t= The with keyword is used to simplify exception handling.\n",
        "assert\t= This function is used for debugging purposes. Usually used to check the correctness of code\n",
        "class\t= It helps us to define a class.\n",
        "continue\t= It continues to the next iteration of a loop\n",
        "del\t= It deletes a reference to an object.\n",
        "except\t= Used with exceptions, what to do when an exception occurs\n",
        "finally\t= Finally is used with exceptions, a block of code that will be executed no matter if there is an exception or not.\n",
        "from\t= It is used to import specific parts of any module.\n",
        "global\t= This declares a global variable.\n",
        "import\t= This is used to import a module.\n",
        "in\t= It’s used to check whether a value is present in a list, range, tuple, etc.\n",
        "is\t= This is used to check if the two variables are equal or not.\n",
        "none\t= This is a special constant used to denote a null value or avoid. It’s important to remember, 0, any empty container(e.g empty list) do not compute to None\n",
        "nonlocal = It’s declared a non-local variable.\n",
        "raise\tT= his raises an exception.\n",
        "yield\t=  ends a function and returns a generator.\n",
        "async\t= It is used to create asynchronous coroutine.\n",
        "await\t= It releases the flow of control back to the event loop.\n",
        "\n",
        "3.  Compare and contrast mutable and immutable objects in Python with examples.\n",
        "  - In Python, Every variable in Python holds an instance of an object. There are two types of objects in Python i.e. Mutable and Immutable objects. Whenever an object is instantiated, it is assigned a unique object id. The type of the object is defined at the runtime and it can’t be changed afterward. However, its state can be changed if it is a mutable object.\n",
        "  - # example\n",
        "  \n",
        "\n"
      ],
      "metadata": {
        "id": "IJo2GFszAigg"
      }
    },
    {
      "cell_type": "markdown",
      "source": [],
      "metadata": {
        "id": "2GpeIIVCHTa-"
      }
    },
    {
      "cell_type": "code",
      "execution_count": 1,
      "metadata": {
        "colab": {
          "base_uri": "https://localhost:8080/",
          "height": 211
        },
        "id": "5m2ng7xWAHmv",
        "outputId": "ecbe7fc2-c546-400d-f88a-3d8cc9b5ab6b"
      },
      "outputs": [
        {
          "output_type": "error",
          "ename": "TypeError",
          "evalue": "'tuple' object does not support item assignment",
          "traceback": [
            "\u001b[0;31m---------------------------------------------------------------------------\u001b[0m",
            "\u001b[0;31mTypeError\u001b[0m                                 Traceback (most recent call last)",
            "\u001b[0;32m<ipython-input-1-9852254ad4a0>\u001b[0m in \u001b[0;36m<cell line: 0>\u001b[0;34m()\u001b[0m\n\u001b[1;32m      3\u001b[0m \u001b[0;34m\u001b[0m\u001b[0m\n\u001b[1;32m      4\u001b[0m \u001b[0mtuple1\u001b[0m \u001b[0;34m=\u001b[0m \u001b[0;34m(\u001b[0m\u001b[0;36m0\u001b[0m\u001b[0;34m,\u001b[0m \u001b[0;36m1\u001b[0m\u001b[0;34m,\u001b[0m \u001b[0;36m2\u001b[0m\u001b[0;34m,\u001b[0m \u001b[0;36m3\u001b[0m\u001b[0;34m)\u001b[0m\u001b[0;34m\u001b[0m\u001b[0;34m\u001b[0m\u001b[0m\n\u001b[0;32m----> 5\u001b[0;31m \u001b[0mtuple1\u001b[0m\u001b[0;34m[\u001b[0m\u001b[0;36m0\u001b[0m\u001b[0;34m]\u001b[0m \u001b[0;34m=\u001b[0m \u001b[0;36m4\u001b[0m\u001b[0;34m\u001b[0m\u001b[0;34m\u001b[0m\u001b[0m\n\u001b[0m\u001b[1;32m      6\u001b[0m \u001b[0mprint\u001b[0m\u001b[0;34m(\u001b[0m\u001b[0mtuple1\u001b[0m\u001b[0;34m)\u001b[0m\u001b[0;34m\u001b[0m\u001b[0;34m\u001b[0m\u001b[0m\n\u001b[1;32m      7\u001b[0m \u001b[0;34m\u001b[0m\u001b[0m\n",
            "\u001b[0;31mTypeError\u001b[0m: 'tuple' object does not support item assignment"
          ]
        }
      ],
      "source": [
        "# Python code to test that\n",
        "# tuples are immutable\n",
        "\n",
        "tuple1 = (0, 1, 2, 3)\n",
        "tuple1[0] = 4\n",
        "print(tuple1)\n",
        "\n"
      ]
    },
    {
      "cell_type": "code",
      "source": [
        "# Python code to test that\n",
        "# strings are immutable\n",
        "\n",
        "message = \"Welcome to GeeksforGeeks\"\n",
        "message[0] = 'p'\n",
        "print(message)"
      ],
      "metadata": {
        "colab": {
          "base_uri": "https://localhost:8080/",
          "height": 193
        },
        "id": "GKQ8pufcGi0s",
        "outputId": "9ccd66c3-8b20-487c-ad8c-a7a7e9c62b33"
      },
      "execution_count": 2,
      "outputs": [
        {
          "output_type": "error",
          "ename": "TypeError",
          "evalue": "'str' object does not support item assignment",
          "traceback": [
            "\u001b[0;31m---------------------------------------------------------------------------\u001b[0m",
            "\u001b[0;31mTypeError\u001b[0m                                 Traceback (most recent call last)",
            "\u001b[0;32m<ipython-input-2-6d5f5c920e95>\u001b[0m in \u001b[0;36m<cell line: 0>\u001b[0;34m()\u001b[0m\n\u001b[1;32m      3\u001b[0m \u001b[0;34m\u001b[0m\u001b[0m\n\u001b[1;32m      4\u001b[0m \u001b[0mmessage\u001b[0m \u001b[0;34m=\u001b[0m \u001b[0;34m\"Welcome to GeeksforGeeks\"\u001b[0m\u001b[0;34m\u001b[0m\u001b[0;34m\u001b[0m\u001b[0m\n\u001b[0;32m----> 5\u001b[0;31m \u001b[0mmessage\u001b[0m\u001b[0;34m[\u001b[0m\u001b[0;36m0\u001b[0m\u001b[0;34m]\u001b[0m \u001b[0;34m=\u001b[0m \u001b[0;34m'p'\u001b[0m\u001b[0;34m\u001b[0m\u001b[0;34m\u001b[0m\u001b[0m\n\u001b[0m\u001b[1;32m      6\u001b[0m \u001b[0mprint\u001b[0m\u001b[0;34m(\u001b[0m\u001b[0mmessage\u001b[0m\u001b[0;34m)\u001b[0m\u001b[0;34m\u001b[0m\u001b[0;34m\u001b[0m\u001b[0m\n",
            "\u001b[0;31mTypeError\u001b[0m: 'str' object does not support item assignment"
          ]
        }
      ]
    },
    {
      "cell_type": "code",
      "source": [
        "my_list = [1, 2, 3]\n",
        "my_list.append(4)\n",
        "print(my_list)\n",
        "\n",
        "my_list.insert(1, 5)\n",
        "print(my_list)\n",
        "\n",
        "my_list.remove(2)\n",
        "print(my_list)\n",
        "\n",
        "popped_element = my_list.pop(0)\n",
        "print(my_list)\n",
        "print(popped_element)"
      ],
      "metadata": {
        "colab": {
          "base_uri": "https://localhost:8080/"
        },
        "id": "SuG7VTL8GnaO",
        "outputId": "2c4d60d7-314b-42d9-fb08-d85f08dd4434"
      },
      "execution_count": 3,
      "outputs": [
        {
          "output_type": "stream",
          "name": "stdout",
          "text": [
            "[1, 2, 3, 4]\n",
            "[1, 5, 2, 3, 4]\n",
            "[1, 5, 3, 4]\n",
            "[5, 3, 4]\n",
            "1\n"
          ]
        }
      ]
    },
    {
      "cell_type": "code",
      "source": [
        "my_dict = {\"name\": \"Ram\", \"age\": 25}\n",
        "new_dict = my_dict\n",
        "new_dict[\"age\"] = 37\n",
        "\n",
        "print(my_dict)\n",
        "print(new_dict)"
      ],
      "metadata": {
        "colab": {
          "base_uri": "https://localhost:8080/"
        },
        "id": "YZIZjAyGG2Nj",
        "outputId": "e5c30882-70c2-4d9b-9075-15ef5a92a928"
      },
      "execution_count": 4,
      "outputs": [
        {
          "output_type": "stream",
          "name": "stdout",
          "text": [
            "{'name': 'Ram', 'age': 37}\n",
            "{'name': 'Ram', 'age': 37}\n"
          ]
        }
      ]
    },
    {
      "cell_type": "code",
      "source": [
        "my_set = {1, 2, 3}\n",
        "new_set = my_set\n",
        "new_set.add(4)\n",
        "\n",
        "print(my_set)\n",
        "print(new_set)"
      ],
      "metadata": {
        "colab": {
          "base_uri": "https://localhost:8080/"
        },
        "id": "Bj9BBpTiG_AX",
        "outputId": "a12809a9-36cb-443f-ee7b-be3f6f0974a9"
      },
      "execution_count": 5,
      "outputs": [
        {
          "output_type": "stream",
          "name": "stdout",
          "text": [
            "{1, 2, 3, 4}\n",
            "{1, 2, 3, 4}\n"
          ]
        }
      ]
    },
    {
      "cell_type": "markdown",
      "source": [
        "4. Discuss the different types of operators in Python and provide examples of how they are used\n",
        " - In Python programming, Operators in general are used to perform operations on values and variables. These are standard symbols used for logical and arithmetic operations. In this article, we will look into different types of Python operators.\n",
        "\n",
        "OPERATORS: These are the special symbols. Eg- + , * , /, etc.\n",
        "OPERAND: It is the value on which the operator is applied.\n",
        "Types of Operators in Python\n",
        "Arithmetic Operators\n",
        "Comparison Operators\n",
        "Logical Operators\n",
        "Bitwise Operators\n",
        "Assignment Operators\n",
        "Identity Operators and Membership Operators\n",
        "\n",
        "5.  Explain the concept of type casting in Python with examples\n",
        "  - Type Casting is the method to convert the Python variable datatype into a certain data type in order to perform the required operation by users. In this article, we will see the various techniques for typecasting. There can be two types of Type Casting in Python:\n",
        "\n",
        "Python Implicit Type Conversion\n",
        "Python Explicit Type Conversion\n",
        "* Int(): Python Int() function take float or string as an argument and returns int type object.\n",
        "* float(): Python float() function take int or string as an argument and return float type object.\n",
        "* str(): Python str() function takes float or int as an argument and returns string type object.\n"
      ],
      "metadata": {
        "id": "FpyofDlQHV_s"
      }
    },
    {
      "cell_type": "code",
      "source": [
        "# Python program to demonstrate\n",
        "# implicit type Casting\n",
        "\n",
        "# Python automatically converts\n",
        "# a to int\n",
        "a = 7\n",
        "print(type(a))\n",
        "\n",
        "# Python automatically converts\n",
        "# b to float\n",
        "b = 3.0\n",
        "print(type(b))\n",
        "\n",
        "# Python automatically converts\n",
        "# c to float as it is a float addition\n",
        "c = a + b\n",
        "print(c)\n",
        "print(type(c))\n",
        "\n",
        "# Python automatically converts\n",
        "# d to float as it is a float multiplication\n",
        "d = a * b\n",
        "print(d)\n",
        "print(type(d))"
      ],
      "metadata": {
        "colab": {
          "base_uri": "https://localhost:8080/"
        },
        "id": "_YwVe5X8JEin",
        "outputId": "e4eeaf9d-3c29-4dfe-9425-b6d70aa7c432"
      },
      "execution_count": 6,
      "outputs": [
        {
          "output_type": "stream",
          "name": "stdout",
          "text": [
            "<class 'int'>\n",
            "<class 'float'>\n",
            "10.0\n",
            "<class 'float'>\n",
            "21.0\n",
            "<class 'float'>\n"
          ]
        }
      ]
    },
    {
      "cell_type": "code",
      "source": [
        "# Python program to demonstrate\n",
        "# type Casting\n",
        "\n",
        "# int variable\n",
        "a = 5\n",
        "\n",
        "# typecast to float\n",
        "n = float(a)\n",
        "\n",
        "print(n)\n",
        "print(type(n))"
      ],
      "metadata": {
        "colab": {
          "base_uri": "https://localhost:8080/"
        },
        "id": "iMV_STHVKotT",
        "outputId": "e048722f-794b-4bf6-c7d1-aec6f20232e3"
      },
      "execution_count": 7,
      "outputs": [
        {
          "output_type": "stream",
          "name": "stdout",
          "text": [
            "5.0\n",
            "<class 'float'>\n"
          ]
        }
      ]
    },
    {
      "cell_type": "markdown",
      "source": [
        "6. How do conditional statements work in Python? Illustrate with examples.\n",
        "   - Conditional statements in Python are used to execute certain blocks of code based on specific conditions. These statements help control the flow of a program, making it behave differently in different situations."
      ],
      "metadata": {
        "id": "rJ-YkEgUKrp_"
      }
    },
    {
      "cell_type": "code",
      "source": [
        "age = 20\n",
        "\n",
        "if age >= 18:\n",
        "    print(\"Eligible to vote.\")"
      ],
      "metadata": {
        "colab": {
          "base_uri": "https://localhost:8080/"
        },
        "id": "-_n1GUx_R0s0",
        "outputId": "3ad18b1a-c561-45f3-ea6a-22b79bdd8099"
      },
      "execution_count": 1,
      "outputs": [
        {
          "output_type": "stream",
          "name": "stdout",
          "text": [
            "Eligible to vote.\n"
          ]
        }
      ]
    },
    {
      "cell_type": "code",
      "source": [
        "age = 10\n",
        "\n",
        "if age <= 12:\n",
        "    print(\"Travel for free.\")\n",
        "else:\n",
        "    print(\"Pay for ticket.\")"
      ],
      "metadata": {
        "colab": {
          "base_uri": "https://localhost:8080/"
        },
        "id": "vUa-aZEuSHqD",
        "outputId": "e2911d80-4511-496c-fc78-4964e7b446bb"
      },
      "execution_count": 2,
      "outputs": [
        {
          "output_type": "stream",
          "name": "stdout",
          "text": [
            "Travel for free.\n"
          ]
        }
      ]
    },
    {
      "cell_type": "code",
      "source": [
        "age = 25\n",
        "\n",
        "if age <= 12:\n",
        "    print(\"Child.\")\n",
        "elif age <= 19:\n",
        "    print(\"Teenager.\")\n",
        "elif age <= 35:\n",
        "    print(\"Young adult.\")\n",
        "else:\n",
        "    print(\"Adult.\")\n"
      ],
      "metadata": {
        "colab": {
          "base_uri": "https://localhost:8080/"
        },
        "id": "FjRRxDprSKJt",
        "outputId": "46cfd4ef-b1a1-4cb2-e686-e2d82bf70374"
      },
      "execution_count": 3,
      "outputs": [
        {
          "output_type": "stream",
          "name": "stdout",
          "text": [
            "Young adult.\n"
          ]
        }
      ]
    },
    {
      "cell_type": "markdown",
      "source": [
        "7.  Describe the different types of loops in Python and their use cases with examples"
      ],
      "metadata": {
        "id": "uoz_XISqSmrf"
      }
    },
    {
      "cell_type": "code",
      "source": [
        "cnt = 0\n",
        "while (cnt < 3):\n",
        "    cnt = cnt + 1\n",
        "    print(\"Hello aman\")"
      ],
      "metadata": {
        "colab": {
          "base_uri": "https://localhost:8080/"
        },
        "id": "vJWATo33Td_I",
        "outputId": "6d154780-da8e-4664-e593-8b1e2c2ba68a"
      },
      "execution_count": 4,
      "outputs": [
        {
          "output_type": "stream",
          "name": "stdout",
          "text": [
            "Hello aman\n",
            "Hello aman\n",
            "Hello aman\n"
          ]
        }
      ]
    },
    {
      "cell_type": "code",
      "source": [
        "n = 4\n",
        "for i in range(0, n):\n",
        "    print(i)"
      ],
      "metadata": {
        "id": "j2rAQjntbxdH"
      },
      "execution_count": null,
      "outputs": []
    }
  ]
}